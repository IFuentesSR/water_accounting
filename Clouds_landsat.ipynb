{
  "cells": [
    {
      "cell_type": "code",
      "execution_count": null,
      "metadata": {
        "colab": {
          "base_uri": "https://localhost:8080/"
        },
        "id": "R6wIob5d82XF",
        "outputId": "f9e476e2-967c-4a3b-df8c-97e045651619"
      },
      "outputs": [
        {
          "output_type": "stream",
          "name": "stdout",
          "text": [
            "To authorize access needed by Earth Engine, open the following URL in a web browser and follow the instructions. If the web browser does not start automatically, please manually browse the URL below.\n",
            "\n",
            "    https://code.earthengine.google.com/client-auth?scopes=https%3A//www.googleapis.com/auth/earthengine%20https%3A//www.googleapis.com/auth/devstorage.full_control&request_id=N-eJo07mrb4L6-glaDqaVqJYZ0a9gPjnTn6pga5QAQI&tc=08pypZm0G-ZZ83v2JuqBkxfJ2kikUm2CBFTZ3Z8-weM&cc=77UyRunEgcw0i7mMyiivlSY6BR-uDQBRMZvAtNZZkks\n",
            "\n",
            "The authorization workflow will generate a code, which you should paste in the box below.\n",
            "Enter verification code: 4/1AbUR2VNbsbcfPyHgJ5HNEn1WA1j83c7yEl-463ytk4NlPOdQS7XSVL2ZvYM\n",
            "\n",
            "Successfully saved authorization token.\n"
          ]
        }
      ],
      "source": [
        "# Import, authenticate and initialize the Earth Engine library.\n",
        "import ee\n",
        "ee.Authenticate()#auth_mode='paste'\n",
        "ee.Initialize()"
      ]
    },
    {
      "cell_type": "code",
      "execution_count": null,
      "metadata": {
        "id": "LS_eiQ5l8-Vi"
      },
      "outputs": [],
      "source": [
        "import time"
      ]
    },
    {
      "cell_type": "code",
      "execution_count": null,
      "metadata": {
        "id": "eQL03jae9UW-"
      },
      "outputs": [],
      "source": [
        "geometry = ee.Geometry.Point([-71.0637, -35.0951]) #change accordingly\n",
        "\n",
        "L8 = ee.ImageCollection(\"LANDSAT/LC08/C02/T1_L2\")\n",
        "L8 = L8.filterBounds(geometry).filterDate('2020-01-01', '2022-11-17')"
      ]
    },
    {
      "cell_type": "code",
      "execution_count": null,
      "metadata": {
        "id": "GbeQUE0m9vVz"
      },
      "outputs": [],
      "source": [
        "def cloudFunction(img):\n",
        "    prop = img.propertyNames()\n",
        "    qua = img.select('QA_PIXEL')\n",
        "    dilated = qua.bitwiseAnd(2).eq(0)\n",
        "    cirrus = qua.bitwiseAnd(4).eq(0)\n",
        "    cloud = qua.bitwiseAnd(8).eq(0)\n",
        "    shadow = qua.bitwiseAnd(16).eq(0)\n",
        "    snow = qua.bitwiseAnd(32).eq(0)\n",
        "    mask = dilated.And(cirrus).And(cloud).And(shadow).And(snow)\n",
        "    return mask.copyProperties(img, prop)"
      ]
    },
    {
      "cell_type": "code",
      "execution_count": null,
      "metadata": {
        "id": "APpPy0Rp91rw"
      },
      "outputs": [],
      "source": [
        "L8_masks = L8.map(cloudFunction)\n",
        "names = L8_masks.aggregate_array('system:index').getInfo()"
      ]
    },
    {
      "cell_type": "code",
      "execution_count": null,
      "metadata": {
        "id": "LXS1Bwvr-A9f"
      },
      "outputs": [],
      "source": [
        "for n in names[:]:\n",
        "    img = L8_masks.filter(ee.Filter.eq('system:index', n)).first()\n",
        "    region = ee.Geometry.Polygon(ee.Geometry(ee.Image(img).get('system:footprint')).coordinates())\n",
        "    ee.batch.Export.image.toDrive(img,region=region, scale=30, description=n).start()\n",
        "    time.sleep(300)"
      ]
    },
    {
      "cell_type": "code",
      "execution_count": null,
      "metadata": {
        "id": "KO7NcV4vom-R"
      },
      "outputs": [],
      "source": []
    }
  ],
  "metadata": {
    "colab": {
      "provenance": []
    },
    "kernelspec": {
      "display_name": "Python 3",
      "name": "python3"
    },
    "language_info": {
      "name": "python"
    }
  },
  "nbformat": 4,
  "nbformat_minor": 0
}